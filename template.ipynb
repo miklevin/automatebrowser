{
 "cells": [
  {
   "cell_type": "code",
   "execution_count": null,
   "id": "8fb0457b-8604-41b7-ba63-efd7970c6bcb",
   "metadata": {},
   "outputs": [],
   "source": [
    "%load_ext lab_black"
   ]
  },
  {
   "cell_type": "code",
   "execution_count": null,
   "id": "001426ea-ab0a-48fd-aa7f-fe63e41b02d2",
   "metadata": {},
   "outputs": [],
   "source": [
    "from playwright.async_api import async_playwright\n",
    "import asyncio\n",
    "\n",
    "chrome_exe = \"/usr/bin/google-chrome\"\n",
    "user_data = \"/home/ubuntu/.config/google-chrome/\"\n",
    "downloads_path = \"/home/ubuntu/Downloads\""
   ]
  },
  {
   "cell_type": "code",
   "execution_count": null,
   "id": "52025cd7-a94a-453d-85c7-271755030503",
   "metadata": {},
   "outputs": [],
   "source": [
    "async with async_playwright() as p:\n",
    "    playwright = await async_playwright().start()\n",
    "    browser = await playwright.chromium.launch_persistent_context(\n",
    "        user_data_dir=user_data,\n",
    "        headless=True,\n",
    "        accept_downloads=True,\n",
    "        executable_path=chrome_exe,\n",
    "        channel=\"chrome\",\n",
    "        no_viewport=True,\n",
    "        slow_mo=10,\n",
    "        downloads_path=downloads_path,\n",
    "        args=[\"--start-maximized\"],\n",
    "    )\n",
    "\n",
    "    page = await browser.new_page()\n",
    "    await page.goto(\"https://www.google.com/search?q=mike+levin+seo\")\n",
    "    await page.screenshot(path=\"screenshot.png\", full_page=True)\n",
    "    # await asyncio.sleep(10)\n",
    "    await browser.close()"
   ]
  },
  {
   "cell_type": "code",
   "execution_count": null,
   "id": "b5efbc55-f6cb-4289-a679-51ec6a6f0831",
   "metadata": {},
   "outputs": [],
   "source": []
  }
 ],
 "metadata": {
  "kernelspec": {
   "display_name": "Python 3 (ipykernel)",
   "language": "python",
   "name": "python3"
  },
  "language_info": {
   "codemirror_mode": {
    "name": "ipython",
    "version": 3
   },
   "file_extension": ".py",
   "mimetype": "text/x-python",
   "name": "python",
   "nbconvert_exporter": "python",
   "pygments_lexer": "ipython3",
   "version": "3.11.0"
  }
 },
 "nbformat": 4,
 "nbformat_minor": 5
}
